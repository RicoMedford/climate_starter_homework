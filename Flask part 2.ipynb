{
 "cells": [
  {
   "cell_type": "code",
   "execution_count": 6,
   "metadata": {},
   "outputs": [],
   "source": [
    "import numpy as np\n",
    "\n",
    "import sqlalchemy\n",
    "from sqlalchemy.ext.automap import automap_base\n",
    "from sqlalchemy.orm import Session\n",
    "from sqlalchemy import create_engine, func, MetaData\n",
    "from sqlalchemy.pool import StaticPool\n",
    "import datetime as dt \n",
    "from flask import Flask, jsonify\n",
    "\n",
    "import logging\n",
    "\n",
    "logging.basicConfig()\n",
    "logging.getLogger('sqlalchemy.engine').setLevel(logging.DEBUG)"
   ]
  },
  {
   "cell_type": "code",
   "execution_count": 7,
   "metadata": {},
   "outputs": [],
   "source": [
    "logging.basicConfig()\n",
    "logging.getLogger('sqlalchemy.engine').setLevel(logging.DEBUG)"
   ]
  },
  {
   "cell_type": "code",
   "execution_count": 8,
   "metadata": {},
   "outputs": [],
   "source": [
    "engine = create_engine(\"sqlite:///Resources/hawaii.sqlite\", connect_args={'check_same_thread':False},\n",
    "   poolclass=StaticPool)"
   ]
  },
  {
   "cell_type": "code",
   "execution_count": 9,
   "metadata": {},
   "outputs": [],
   "source": [
    "Base = automap_base()"
   ]
  },
  {
   "cell_type": "code",
   "execution_count": 10,
   "metadata": {},
   "outputs": [
    {
     "name": "stderr",
     "output_type": "stream",
     "text": [
      "INFO:sqlalchemy.engine.base.Engine:SELECT CAST('test plain returns' AS VARCHAR(60)) AS anon_1\n",
      "INFO:sqlalchemy.engine.base.Engine:()\n",
      "INFO:sqlalchemy.engine.base.Engine:SELECT CAST('test unicode returns' AS VARCHAR(60)) AS anon_1\n",
      "INFO:sqlalchemy.engine.base.Engine:()\n",
      "INFO:sqlalchemy.engine.base.Engine:SELECT name FROM sqlite_master WHERE type='table' ORDER BY name\n",
      "INFO:sqlalchemy.engine.base.Engine:()\n",
      "DEBUG:sqlalchemy.engine.base.Engine:Col ('name',)\n",
      "DEBUG:sqlalchemy.engine.base.Engine:Row ('measurement',)\n",
      "DEBUG:sqlalchemy.engine.base.Engine:Row ('station',)\n",
      "INFO:sqlalchemy.engine.base.Engine:PRAGMA table_info(\"measurement\")\n",
      "INFO:sqlalchemy.engine.base.Engine:()\n",
      "DEBUG:sqlalchemy.engine.base.Engine:Col ('cid', 'name', 'type', 'notnull', 'dflt_value', 'pk')\n",
      "DEBUG:sqlalchemy.engine.base.Engine:Row (0, 'id', 'INTEGER', 1, None, 1)\n",
      "DEBUG:sqlalchemy.engine.base.Engine:Row (1, 'station', 'TEXT', 0, None, 0)\n",
      "DEBUG:sqlalchemy.engine.base.Engine:Row (2, 'date', 'TEXT', 0, None, 0)\n",
      "DEBUG:sqlalchemy.engine.base.Engine:Row (3, 'prcp', 'FLOAT', 0, None, 0)\n",
      "DEBUG:sqlalchemy.engine.base.Engine:Row (4, 'tobs', 'FLOAT', 0, None, 0)\n",
      "INFO:sqlalchemy.engine.base.Engine:SELECT sql FROM  (SELECT * FROM sqlite_master UNION ALL   SELECT * FROM sqlite_temp_master) WHERE name = 'measurement' AND type = 'table'\n",
      "INFO:sqlalchemy.engine.base.Engine:()\n",
      "DEBUG:sqlalchemy.engine.base.Engine:Col ('sql',)\n",
      "DEBUG:sqlalchemy.engine.base.Engine:Row ('CREATE TABLE measurement (\\n\\tid INTEGER NOT NULL, \\n\\tstation TEXT, \\n\\tdate TEXT, \\n\\tprcp FLOAT, \\n\\ttobs FLOAT, \\n\\tPRIMARY KEY (id)\\n)',)\n",
      "INFO:sqlalchemy.engine.base.Engine:PRAGMA foreign_key_list(\"measurement\")\n",
      "INFO:sqlalchemy.engine.base.Engine:()\n",
      "DEBUG:sqlalchemy.engine.base.Engine:Col ('id', 'seq', 'table', 'from', 'to', 'on_update', 'on_delete', 'match')\n",
      "INFO:sqlalchemy.engine.base.Engine:SELECT sql FROM  (SELECT * FROM sqlite_master UNION ALL   SELECT * FROM sqlite_temp_master) WHERE name = 'measurement' AND type = 'table'\n",
      "INFO:sqlalchemy.engine.base.Engine:()\n",
      "DEBUG:sqlalchemy.engine.base.Engine:Col ('sql',)\n",
      "DEBUG:sqlalchemy.engine.base.Engine:Row ('CREATE TABLE measurement (\\n\\tid INTEGER NOT NULL, \\n\\tstation TEXT, \\n\\tdate TEXT, \\n\\tprcp FLOAT, \\n\\ttobs FLOAT, \\n\\tPRIMARY KEY (id)\\n)',)\n",
      "INFO:sqlalchemy.engine.base.Engine:PRAGMA index_list(\"measurement\")\n",
      "INFO:sqlalchemy.engine.base.Engine:()\n",
      "DEBUG:sqlalchemy.engine.base.Engine:Col ('seq', 'name', 'unique', 'origin', 'partial')\n",
      "INFO:sqlalchemy.engine.base.Engine:PRAGMA index_list(\"measurement\")\n",
      "INFO:sqlalchemy.engine.base.Engine:()\n",
      "DEBUG:sqlalchemy.engine.base.Engine:Col ('seq', 'name', 'unique', 'origin', 'partial')\n",
      "INFO:sqlalchemy.engine.base.Engine:SELECT sql FROM  (SELECT * FROM sqlite_master UNION ALL   SELECT * FROM sqlite_temp_master) WHERE name = 'measurement' AND type = 'table'\n",
      "INFO:sqlalchemy.engine.base.Engine:()\n",
      "DEBUG:sqlalchemy.engine.base.Engine:Col ('sql',)\n",
      "DEBUG:sqlalchemy.engine.base.Engine:Row ('CREATE TABLE measurement (\\n\\tid INTEGER NOT NULL, \\n\\tstation TEXT, \\n\\tdate TEXT, \\n\\tprcp FLOAT, \\n\\ttobs FLOAT, \\n\\tPRIMARY KEY (id)\\n)',)\n",
      "INFO:sqlalchemy.engine.base.Engine:PRAGMA table_info(\"station\")\n",
      "INFO:sqlalchemy.engine.base.Engine:()\n",
      "DEBUG:sqlalchemy.engine.base.Engine:Col ('cid', 'name', 'type', 'notnull', 'dflt_value', 'pk')\n",
      "DEBUG:sqlalchemy.engine.base.Engine:Row (0, 'id', 'INTEGER', 1, None, 1)\n",
      "DEBUG:sqlalchemy.engine.base.Engine:Row (1, 'station', 'TEXT', 0, None, 0)\n",
      "DEBUG:sqlalchemy.engine.base.Engine:Row (2, 'name', 'TEXT', 0, None, 0)\n",
      "DEBUG:sqlalchemy.engine.base.Engine:Row (3, 'latitude', 'FLOAT', 0, None, 0)\n",
      "DEBUG:sqlalchemy.engine.base.Engine:Row (4, 'longitude', 'FLOAT', 0, None, 0)\n",
      "DEBUG:sqlalchemy.engine.base.Engine:Row (5, 'elevation', 'FLOAT', 0, None, 0)\n",
      "INFO:sqlalchemy.engine.base.Engine:SELECT sql FROM  (SELECT * FROM sqlite_master UNION ALL   SELECT * FROM sqlite_temp_master) WHERE name = 'station' AND type = 'table'\n",
      "INFO:sqlalchemy.engine.base.Engine:()\n",
      "DEBUG:sqlalchemy.engine.base.Engine:Col ('sql',)\n",
      "DEBUG:sqlalchemy.engine.base.Engine:Row ('CREATE TABLE station (\\n\\tid INTEGER NOT NULL, \\n\\tstation TEXT, \\n\\tname TEXT, \\n\\tlatitude FLOAT, \\n\\tlongitude FLOAT, \\n\\televation FLOAT, \\n\\tPRIMARY KEY (id)\\n)',)\n",
      "INFO:sqlalchemy.engine.base.Engine:PRAGMA foreign_key_list(\"station\")\n",
      "INFO:sqlalchemy.engine.base.Engine:()\n",
      "DEBUG:sqlalchemy.engine.base.Engine:Col ('id', 'seq', 'table', 'from', 'to', 'on_update', 'on_delete', 'match')\n",
      "INFO:sqlalchemy.engine.base.Engine:SELECT sql FROM  (SELECT * FROM sqlite_master UNION ALL   SELECT * FROM sqlite_temp_master) WHERE name = 'station' AND type = 'table'\n",
      "INFO:sqlalchemy.engine.base.Engine:()\n",
      "DEBUG:sqlalchemy.engine.base.Engine:Col ('sql',)\n",
      "DEBUG:sqlalchemy.engine.base.Engine:Row ('CREATE TABLE station (\\n\\tid INTEGER NOT NULL, \\n\\tstation TEXT, \\n\\tname TEXT, \\n\\tlatitude FLOAT, \\n\\tlongitude FLOAT, \\n\\televation FLOAT, \\n\\tPRIMARY KEY (id)\\n)',)\n",
      "INFO:sqlalchemy.engine.base.Engine:PRAGMA index_list(\"station\")\n",
      "INFO:sqlalchemy.engine.base.Engine:()\n",
      "DEBUG:sqlalchemy.engine.base.Engine:Col ('seq', 'name', 'unique', 'origin', 'partial')\n",
      "INFO:sqlalchemy.engine.base.Engine:PRAGMA index_list(\"station\")\n",
      "INFO:sqlalchemy.engine.base.Engine:()\n",
      "DEBUG:sqlalchemy.engine.base.Engine:Col ('seq', 'name', 'unique', 'origin', 'partial')\n",
      "INFO:sqlalchemy.engine.base.Engine:SELECT sql FROM  (SELECT * FROM sqlite_master UNION ALL   SELECT * FROM sqlite_temp_master) WHERE name = 'station' AND type = 'table'\n",
      "INFO:sqlalchemy.engine.base.Engine:()\n",
      "DEBUG:sqlalchemy.engine.base.Engine:Col ('sql',)\n",
      "DEBUG:sqlalchemy.engine.base.Engine:Row ('CREATE TABLE station (\\n\\tid INTEGER NOT NULL, \\n\\tstation TEXT, \\n\\tname TEXT, \\n\\tlatitude FLOAT, \\n\\tlongitude FLOAT, \\n\\televation FLOAT, \\n\\tPRIMARY KEY (id)\\n)',)\n"
     ]
    }
   ],
   "source": [
    "Base.prepare(engine, reflect=True)"
   ]
  },
  {
   "cell_type": "code",
   "execution_count": 13,
   "metadata": {},
   "outputs": [],
   "source": [
    "Station = Base.classes.station\n",
    "Measurement = Base.classes.measurement"
   ]
  },
  {
   "cell_type": "code",
   "execution_count": 14,
   "metadata": {},
   "outputs": [],
   "source": [
    "session = Session(engine)"
   ]
  },
  {
   "cell_type": "code",
   "execution_count": 15,
   "metadata": {},
   "outputs": [],
   "source": [
    "app = Flask(__name__)"
   ]
  },
  {
   "cell_type": "code",
   "execution_count": 16,
   "metadata": {},
   "outputs": [
    {
     "ename": "SyntaxError",
     "evalue": "unexpected EOF while parsing (<ipython-input-16-cc3b90af1eaf>, line 7)",
     "output_type": "error",
     "traceback": [
      "\u001b[0;36m  File \u001b[0;32m\"<ipython-input-16-cc3b90af1eaf>\"\u001b[0;36m, line \u001b[0;32m7\u001b[0m\n\u001b[0;31m    \"/api/v1.0/precipitation\"\u001b[0m\n\u001b[0m                             ^\u001b[0m\n\u001b[0;31mSyntaxError\u001b[0m\u001b[0;31m:\u001b[0m unexpected EOF while parsing\n"
     ]
    }
   ],
   "source": [
    "@app.route(\"/\")\n",
    "def welcome():\n",
    "    \"\"\"List all available api routes.\"\"\"\n",
    "    return (\n",
    "        \"Available Routes:<br/>\" +\n",
    "        \"/api/v1.0/stations\"+\n",
    "        \"/api/v1.0/precipitation\""
   ]
  },
  {
   "cell_type": "code",
   "execution_count": null,
   "metadata": {},
   "outputs": [],
   "source": [
    "#@app.route(\"/api/v1.0/names\")\n",
    "#def names():\n",
    "  #  \"\"\"Return a list of tobs\"\"\"\n",
    "    # Query all passengers\n",
    "  #  results = session.query(station.name).all()\n",
    "\n",
    "    # Convert list of tuples into normal list\n",
    "  #  all_names = list(np.ravel(results))\n",
    "\n",
    "  #  return jsonify(all_names)station"
   ]
  }
 ],
 "metadata": {
  "kernelspec": {
   "display_name": "Python 3",
   "language": "python",
   "name": "python3"
  },
  "language_info": {
   "codemirror_mode": {
    "name": "ipython",
    "version": 3
   },
   "file_extension": ".py",
   "mimetype": "text/x-python",
   "name": "python",
   "nbconvert_exporter": "python",
   "pygments_lexer": "ipython3",
   "version": "3.6.5"
  }
 },
 "nbformat": 4,
 "nbformat_minor": 2
}
